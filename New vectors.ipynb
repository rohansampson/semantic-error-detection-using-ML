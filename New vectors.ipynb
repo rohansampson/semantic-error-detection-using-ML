{
 "cells": [
  {
   "cell_type": "code",
   "execution_count": 1,
   "metadata": {
    "collapsed": true
   },
   "outputs": [],
   "source": [
    "from __future__ import absolute_import, division, print_function"
   ]
  },
  {
   "cell_type": "code",
   "execution_count": 2,
   "metadata": {
    "collapsed": true
   },
   "outputs": [],
   "source": [
    "import codecs\n",
    "import glob\n",
    "import logging\n",
    "import multiprocessing\n",
    "import os\n",
    "import pprint\n",
    "import re"
   ]
  },
  {
   "cell_type": "code",
   "execution_count": 3,
   "metadata": {
    "collapsed": true
   },
   "outputs": [],
   "source": [
    "import nltk\n",
    "import gensim.models.word2vec as w2v\n",
    "import sklearn.manifold\n",
    "import numpy as np\n",
    "import matplotlib.pyplot as plt\n",
    "import pandas as pd\n",
    "import seaborn as sns"
   ]
  },
  {
   "cell_type": "code",
   "execution_count": 4,
   "metadata": {
    "collapsed": false
   },
   "outputs": [
    {
     "name": "stdout",
     "output_type": "stream",
     "text": [
      "Populating the interactive namespace from numpy and matplotlib\n"
     ]
    }
   ],
   "source": [
    "%pylab inline"
   ]
  },
  {
   "cell_type": "code",
   "execution_count": 5,
   "metadata": {
    "collapsed": true
   },
   "outputs": [],
   "source": [
    "logging.basicConfig(format='%(asctime)s : %(levelname)s : %(message)s', level=logging.INFO)"
   ]
  },
  {
   "cell_type": "code",
   "execution_count": 6,
   "metadata": {
    "collapsed": false
   },
   "outputs": [
    {
     "name": "stdout",
     "output_type": "stream",
     "text": [
      "[nltk_data] Downloading package punkt to /home/rohan/nltk_data...\n",
      "[nltk_data]   Package punkt is already up-to-date!\n",
      "[nltk_data] Downloading package stopwords to /home/rohan/nltk_data...\n",
      "[nltk_data]   Package stopwords is already up-to-date!\n"
     ]
    },
    {
     "data": {
      "text/plain": [
       "True"
      ]
     },
     "execution_count": 6,
     "metadata": {},
     "output_type": "execute_result"
    }
   ],
   "source": [
    "nltk.download(\"punkt\")\n",
    "nltk.download(\"stopwords\")"
   ]
  },
  {
   "cell_type": "code",
   "execution_count": 7,
   "metadata": {
    "collapsed": true
   },
   "outputs": [],
   "source": [
    "book_filenames = sorted(glob.glob(\"data2/*.txt\"))"
   ]
  },
  {
   "cell_type": "code",
   "execution_count": 8,
   "metadata": {
    "collapsed": false
   },
   "outputs": [
    {
     "name": "stdout",
     "output_type": "stream",
     "text": [
      "Found books:\n"
     ]
    },
    {
     "data": {
      "text/plain": [
       "['data2/1962-Dead Cert - Dick Francis.txt',\n",
       " 'data2/1964-Nerve - Dick Francis.txt',\n",
       " 'data2/1964-Reflex - Dick Francis.txt',\n",
       " 'data2/1965-For Kicks - Dick Francis.txt',\n",
       " 'data2/1965-Odds Against - Dick Francis.txt',\n",
       " 'data2/1966-Flying Finish - Dick Francis.txt',\n",
       " 'data2/1967-Blood Sport - Dick Francis.txt',\n",
       " 'data2/1968-Forfeit - Dick Francis.txt',\n",
       " 'data2/1969-Enquiry - Dick Francis.txt',\n",
       " 'data2/1970-Rat Race - Dick Francis.txt',\n",
       " 'data2/1970-Slay Ride - Dick Francis.txt',\n",
       " 'data2/1971-Bonecrack - Dick Francis.txt',\n",
       " 'data2/1972-Smokescreen - Dick Francis.txt',\n",
       " 'data2/1975-High Stakes - Dick Francis.txt',\n",
       " 'data2/got1.txt',\n",
       " 'data2/got2.txt',\n",
       " 'data2/got3.txt',\n",
       " 'data2/got4.txt',\n",
       " 'data2/got5.txt']"
      ]
     },
     "execution_count": 8,
     "metadata": {},
     "output_type": "execute_result"
    }
   ],
   "source": [
    "print(\"Found books:\")\n",
    "book_filenames"
   ]
  },
  {
   "cell_type": "code",
   "execution_count": 9,
   "metadata": {
    "collapsed": false
   },
   "outputs": [
    {
     "name": "stdout",
     "output_type": "stream",
     "text": [
      "Reading 'data2/1962-Dead Cert - Dick Francis.txt'...\n",
      "Corpus is now 459441 characters long\n",
      "\n",
      "Reading 'data2/1964-Nerve - Dick Francis.txt'...\n",
      "Corpus is now 917549 characters long\n",
      "\n",
      "Reading 'data2/1964-Reflex - Dick Francis.txt'...\n",
      "Corpus is now 1396688 characters long\n",
      "\n",
      "Reading 'data2/1965-For Kicks - Dick Francis.txt'...\n",
      "Corpus is now 1873411 characters long\n",
      "\n",
      "Reading 'data2/1965-Odds Against - Dick Francis.txt'...\n",
      "Corpus is now 2310713 characters long\n",
      "\n",
      "Reading 'data2/1966-Flying Finish - Dick Francis.txt'...\n",
      "Corpus is now 2750740 characters long\n",
      "\n",
      "Reading 'data2/1967-Blood Sport - Dick Francis.txt'...\n",
      "Corpus is now 3180770 characters long\n",
      "\n",
      "Reading 'data2/1968-Forfeit - Dick Francis.txt'...\n",
      "Corpus is now 3528463 characters long\n",
      "\n",
      "Reading 'data2/1969-Enquiry - Dick Francis.txt'...\n",
      "Corpus is now 3886749 characters long\n",
      "\n",
      "Reading 'data2/1970-Rat Race - Dick Francis.txt'...\n",
      "Corpus is now 4240033 characters long\n",
      "\n",
      "Reading 'data2/1970-Slay Ride - Dick Francis.txt'...\n",
      "Corpus is now 4592605 characters long\n",
      "\n",
      "Reading 'data2/1971-Bonecrack - Dick Francis.txt'...\n",
      "Corpus is now 4936522 characters long\n",
      "\n",
      "Reading 'data2/1972-Smokescreen - Dick Francis.txt'...\n",
      "Corpus is now 5279831 characters long\n",
      "\n",
      "Reading 'data2/1975-High Stakes - Dick Francis.txt'...\n",
      "Corpus is now 5623919 characters long\n",
      "\n",
      "Reading 'data2/got1.txt'...\n",
      "Corpus is now 7394578 characters long\n",
      "\n",
      "Reading 'data2/got2.txt'...\n",
      "Corpus is now 9694960 characters long\n",
      "\n",
      "Reading 'data2/got3.txt'...\n",
      "Corpus is now 12015324 characters long\n",
      "\n",
      "Reading 'data2/got4.txt'...\n",
      "Corpus is now 13731864 characters long\n",
      "\n",
      "Reading 'data2/got5.txt'...\n",
      "Corpus is now 15343404 characters long\n",
      "\n"
     ]
    }
   ],
   "source": [
    "corpus_raw = u\"\"\n",
    "for book_filename in book_filenames:\n",
    "    print(\"Reading '{0}'...\".format(book_filename))\n",
    "    with codecs.open(book_filename, \"r\", \"utf-8\") as book_file:\n",
    "        corpus_raw += book_file.read()\n",
    "    print(\"Corpus is now {0} characters long\".format(len(corpus_raw)))\n",
    "    print()"
   ]
  },
  {
   "cell_type": "code",
   "execution_count": 10,
   "metadata": {
    "collapsed": true
   },
   "outputs": [],
   "source": [
    "tokenizer = nltk.data.load('tokenizers/punkt/english.pickle')"
   ]
  },
  {
   "cell_type": "code",
   "execution_count": 11,
   "metadata": {
    "collapsed": true
   },
   "outputs": [],
   "source": [
    "aw_sentences = tokenizer.tokenize(corpus_raw)"
   ]
  },
  {
   "cell_type": "code",
   "execution_count": null,
   "metadata": {
    "collapsed": true
   },
   "outputs": [],
   "source": [
    "#convert into a list of words\n",
    "#rtemove unnnecessary,, split into words, no hyphens\n",
    "#list of words\n",
    "def sentence_to_wordlist(raw):\n",
    "    clean = re.sub(\"[^a-zA-Z]\",\" \", raw)\n",
    "    words = clean.split()\n",
    "    return words"
   ]
  }
 ],
 "metadata": {
  "kernelspec": {
   "display_name": "Python 3",
   "language": "python",
   "name": "python3"
  },
  "language_info": {
   "codemirror_mode": {
    "name": "ipython",
    "version": 3
   },
   "file_extension": ".py",
   "mimetype": "text/x-python",
   "name": "python",
   "nbconvert_exporter": "python",
   "pygments_lexer": "ipython3",
   "version": "3.6.0"
  }
 },
 "nbformat": 4,
 "nbformat_minor": 2
}
